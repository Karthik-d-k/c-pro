{
 "cells": [
  {
   "cell_type": "code",
   "execution_count": 1,
   "id": "7b7b7ba9-b407-4fab-b98f-f1895d407258",
   "metadata": {},
   "outputs": [],
   "source": [
    "import os\n",
    "from pathlib import Path"
   ]
  },
  {
   "cell_type": "code",
   "execution_count": 2,
   "id": "76441e11-2873-4649-9870-9f203228a9ed",
   "metadata": {},
   "outputs": [
    {
     "data": {
      "text/plain": [
       "PosixPath('/mnt/d/karthikdk/c-pro')"
      ]
     },
     "execution_count": 2,
     "metadata": {},
     "output_type": "execute_result"
    }
   ],
   "source": [
    "path = Path.cwd().parent\n",
    "path"
   ]
  },
  {
   "cell_type": "code",
   "execution_count": 3,
   "id": "9d679181-a523-4008-a434-4e39d0fc65ee",
   "metadata": {},
   "outputs": [],
   "source": [
    "inputpath = path/'_src'\n",
    "outputpath = path/'docs'"
   ]
  },
  {
   "cell_type": "code",
   "execution_count": 4,
   "id": "8fbcdf13-a39d-46f1-b5bc-8866f055b3e1",
   "metadata": {},
   "outputs": [],
   "source": [
    "def c2md(c_file):\n",
    "    \"\"\"\n",
    "    Create .md file for the given `c_file` inside docs folder.\n",
    "    \"\"\"\n",
    "    dir_name = (c_file).parent\n",
    "    out_dir_name = Path(str(dir_name).replace('_src', 'docs'))\n",
    "    if not os.path.isdir(out_dir_name):\n",
    "        os.mkdir(out_dir_name)\n",
    "    Path(out_dir_name/c_file.name).with_suffix('.md').touch()"
   ]
  },
  {
   "cell_type": "code",
   "execution_count": 5,
   "id": "601ba16d-88f9-465f-bb3c-cc70c166ddae",
   "metadata": {},
   "outputs": [],
   "source": [
    "c2md(inputpath/'Chapter_01/EX1_01.c')"
   ]
  },
  {
   "cell_type": "code",
   "execution_count": 6,
   "id": "f6a577f8-dc25-413e-80c2-18435188dd9b",
   "metadata": {},
   "outputs": [
    {
     "data": {
      "text/plain": [
       "'--8<-- \"filename.ext\"'"
      ]
     },
     "execution_count": 6,
     "metadata": {},
     "output_type": "execute_result"
    }
   ],
   "source": [
    "doc_string = '--8<-- \"filename.ext\"'\n",
    "doc_string"
   ]
  },
  {
   "cell_type": "code",
   "execution_count": 7,
   "id": "e5648ebf-f6b3-402e-81cb-4cb597ea3c69",
   "metadata": {},
   "outputs": [],
   "source": [
    "def md_fill(md_file):\n",
    "    \"\"\"\n",
    "    fill .md file with doc content.\n",
    "    \"\"\"\n",
    "    with open(md_file, mode='w', encoding='utf8') as f:\n",
    "        string = doc_string.replace('filename.ext', str(md_file.name).replace('.md', '.c'))\n",
    "        f.write(string)"
   ]
  },
  {
   "cell_type": "code",
   "execution_count": 8,
   "id": "5bec4223-3f27-4158-83a8-3fac13926963",
   "metadata": {},
   "outputs": [],
   "source": [
    "md_fill(outputpath/'Chapter_01/EX1_01.md')"
   ]
  },
  {
   "cell_type": "code",
   "execution_count": null,
   "id": "f0773368-3273-481f-9516-0b84b7e56ecf",
   "metadata": {},
   "outputs": [],
   "source": []
  }
 ],
 "metadata": {
  "kernelspec": {
   "display_name": "Python 3",
   "language": "python",
   "name": "python3"
  },
  "language_info": {
   "codemirror_mode": {
    "name": "ipython",
    "version": 3
   },
   "file_extension": ".py",
   "mimetype": "text/x-python",
   "name": "python",
   "nbconvert_exporter": "python",
   "pygments_lexer": "ipython3",
   "version": "3.9.5"
  }
 },
 "nbformat": 4,
 "nbformat_minor": 5
}
