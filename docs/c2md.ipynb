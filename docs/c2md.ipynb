{
 "cells": [
  {
   "cell_type": "code",
   "execution_count": 1,
   "id": "7b7b7ba9-b407-4fab-b98f-f1895d407258",
   "metadata": {},
   "outputs": [],
   "source": [
    "import os\n",
    "from pathlib import Path"
   ]
  },
  {
   "cell_type": "code",
   "execution_count": 2,
   "id": "76441e11-2873-4649-9870-9f203228a9ed",
   "metadata": {},
   "outputs": [
    {
     "data": {
      "text/plain": [
       "PosixPath('/mnt/d/karthikdk/c-pro')"
      ]
     },
     "execution_count": 2,
     "metadata": {},
     "output_type": "execute_result"
    }
   ],
   "source": [
    "path = Path.cwd().parent\n",
    "path"
   ]
  },
  {
   "cell_type": "code",
   "execution_count": 3,
   "id": "9d679181-a523-4008-a434-4e39d0fc65ee",
   "metadata": {},
   "outputs": [],
   "source": [
    "inputpath = path/'_src'\n",
    "outputpath = path/'docs'"
   ]
  },
  {
   "cell_type": "code",
   "execution_count": 4,
   "id": "d4004a9b-a0c0-45ac-9876-5ce0d97d9c8c",
   "metadata": {},
   "outputs": [
    {
     "data": {
      "text/plain": [
       "<generator object Path.rglob at 0x7f98b4b10430>"
      ]
     },
     "execution_count": 4,
     "metadata": {},
     "output_type": "execute_result"
    }
   ],
   "source": [
    "c_files = inputpath.rglob('*.c')\n",
    "c_files"
   ]
  },
  {
   "cell_type": "code",
   "execution_count": 5,
   "id": "8fbcdf13-a39d-46f1-b5bc-8866f055b3e1",
   "metadata": {},
   "outputs": [],
   "source": [
    "def c2md(c_files):\n",
    "    \"\"\"\n",
    "    Create .md file for the given `c_files` inside docs folder.\n",
    "    \"\"\"\n",
    "    for c_file in c_files:\n",
    "        dir_name = (c_file).parent\n",
    "        out_dir_name = Path(str(dir_name).replace('_src', 'docs'))\n",
    "        if not os.path.isdir(out_dir_name):\n",
    "            os.mkdir(out_dir_name)\n",
    "        Path(out_dir_name/c_file.name).with_suffix('.md').touch()"
   ]
  },
  {
   "cell_type": "code",
   "execution_count": 6,
   "id": "0910990e-7736-43fe-a29e-c18b9d22df57",
   "metadata": {},
   "outputs": [],
   "source": [
    "c2md(c_files)"
   ]
  },
  {
   "cell_type": "code",
   "execution_count": 7,
   "id": "4357d3d9-68b1-4468-89f8-8fe905e6f19c",
   "metadata": {},
   "outputs": [],
   "source": [
    "doc_string = \"\"\"# filename.c\n",
    "\n",
    "``` c\n",
    "\n",
    "--8<-- \"filename.c\"\n",
    "\n",
    "```\n",
    "\"\"\""
   ]
  },
  {
   "cell_type": "code",
   "execution_count": 8,
   "id": "e5648ebf-f6b3-402e-81cb-4cb597ea3c69",
   "metadata": {},
   "outputs": [],
   "source": [
    "def md_fill(md_files):\n",
    "    \"\"\"\n",
    "    fill .md files with doc content.\n",
    "    \"\"\"\n",
    "    for md_file in md_files:\n",
    "        if md_file.name != 'index.md':\n",
    "            with open(md_file, mode='w', encoding='utf8') as f:\n",
    "                string = doc_string.replace('filename', str(md_file.name[:-3]))\n",
    "                f.write(string)"
   ]
  },
  {
   "cell_type": "code",
   "execution_count": 9,
   "id": "6e0529f9-babf-450a-8f8a-82edd6956499",
   "metadata": {},
   "outputs": [
    {
     "data": {
      "text/plain": [
       "<generator object Path.rglob at 0x7f98b4acf120>"
      ]
     },
     "execution_count": 9,
     "metadata": {},
     "output_type": "execute_result"
    }
   ],
   "source": [
    "md_files = outputpath.rglob('*.md')\n",
    "md_files"
   ]
  },
  {
   "cell_type": "code",
   "execution_count": 10,
   "id": "5bec4223-3f27-4158-83a8-3fac13926963",
   "metadata": {},
   "outputs": [],
   "source": [
    "md_fill(md_files)"
   ]
  },
  {
   "cell_type": "code",
   "execution_count": null,
   "id": "065865b4-87c3-4e5c-ae0f-14932f87deaa",
   "metadata": {},
   "outputs": [],
   "source": []
  }
 ],
 "metadata": {
  "kernelspec": {
   "display_name": "Python 3",
   "language": "python",
   "name": "python3"
  },
  "language_info": {
   "codemirror_mode": {
    "name": "ipython",
    "version": 3
   },
   "file_extension": ".py",
   "mimetype": "text/x-python",
   "name": "python",
   "nbconvert_exporter": "python",
   "pygments_lexer": "ipython3",
   "version": "3.9.5"
  }
 },
 "nbformat": 4,
 "nbformat_minor": 5
}
